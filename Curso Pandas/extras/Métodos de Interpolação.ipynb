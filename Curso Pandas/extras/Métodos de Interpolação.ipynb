{
 "cells": [
  {
   "cell_type": "code",
   "execution_count": 15,
   "id": "b17de444",
   "metadata": {},
   "outputs": [],
   "source": [
    "import pandas as pd"
   ]
  },
  {
   "cell_type": "code",
   "execution_count": 16,
   "id": "47970e1a",
   "metadata": {},
   "outputs": [
    {
     "data": {
      "text/plain": [
       "0     0.500\n",
       "1       NaN\n",
       "2       NaN\n",
       "3     0.580\n",
       "4     0.352\n",
       "5       NaN\n",
       "6       NaN\n",
       "7     0.600\n",
       "8     0.590\n",
       "9       NaN\n",
       "10    7.000\n",
       "dtype: float64"
      ]
     },
     "execution_count": 16,
     "metadata": {},
     "output_type": "execute_result"
    }
   ],
   "source": [
    "data = [0.5, None, None, .58, .352, None, None, .6, .59, None, 7]\n",
    "s = pd.Series(data)\n",
    "s"
   ]
  },
  {
   "cell_type": "code",
   "execution_count": 17,
   "id": "fde010f5",
   "metadata": {},
   "outputs": [
    {
     "data": {
      "text/plain": [
       "0     0.500\n",
       "1     0.000\n",
       "2     0.000\n",
       "3     0.580\n",
       "4     0.352\n",
       "5     0.000\n",
       "6     0.000\n",
       "7     0.600\n",
       "8     0.590\n",
       "9     0.000\n",
       "10    7.000\n",
       "dtype: float64"
      ]
     },
     "execution_count": 17,
     "metadata": {},
     "output_type": "execute_result"
    }
   ],
   "source": [
    "s.fillna(0)"
   ]
  },
  {
   "cell_type": "code",
   "execution_count": 18,
   "id": "fad07903",
   "metadata": {},
   "outputs": [
    {
     "data": {
      "text/plain": [
       "0     0.500\n",
       "1     0.500\n",
       "2     0.500\n",
       "3     0.580\n",
       "4     0.352\n",
       "5     0.352\n",
       "6     0.352\n",
       "7     0.600\n",
       "8     0.590\n",
       "9     0.590\n",
       "10    7.000\n",
       "dtype: float64"
      ]
     },
     "execution_count": 18,
     "metadata": {},
     "output_type": "execute_result"
    }
   ],
   "source": [
    "s.fillna(method = 'ffill') # o método ffill preenche o valor do dado faltante pelo valor anterior, de cima para baixo"
   ]
  },
  {
   "cell_type": "code",
   "execution_count": 19,
   "id": "f4a709c9",
   "metadata": {},
   "outputs": [
    {
     "data": {
      "text/plain": [
       "0     0.500\n",
       "1     0.580\n",
       "2     0.580\n",
       "3     0.580\n",
       "4     0.352\n",
       "5     0.600\n",
       "6     0.600\n",
       "7     0.600\n",
       "8     0.590\n",
       "9     7.000\n",
       "10    7.000\n",
       "dtype: float64"
      ]
     },
     "execution_count": 19,
     "metadata": {},
     "output_type": "execute_result"
    }
   ],
   "source": [
    "s.fillna(method = 'bfill') # o método bfill preenche o valor do dado faltante pelo valor anterior, de baixo para cima"
   ]
  },
  {
   "cell_type": "code",
   "execution_count": 20,
   "id": "751d3d05",
   "metadata": {},
   "outputs": [
    {
     "data": {
      "text/plain": [
       "0     0.500000\n",
       "1     1.603667\n",
       "2     1.603667\n",
       "3     0.580000\n",
       "4     0.352000\n",
       "5     1.603667\n",
       "6     1.603667\n",
       "7     0.600000\n",
       "8     0.590000\n",
       "9     1.603667\n",
       "10    7.000000\n",
       "dtype: float64"
      ]
     },
     "execution_count": 20,
     "metadata": {},
     "output_type": "execute_result"
    }
   ],
   "source": [
    "s.fillna(s.mean())"
   ]
  },
  {
   "cell_type": "code",
   "execution_count": 21,
   "id": "57496f25",
   "metadata": {},
   "outputs": [
    {
     "data": {
      "text/plain": [
       "0     0.500\n",
       "1     0.500\n",
       "2       NaN\n",
       "3     0.580\n",
       "4     0.352\n",
       "5     0.352\n",
       "6       NaN\n",
       "7     0.600\n",
       "8     0.590\n",
       "9     0.590\n",
       "10    7.000\n",
       "dtype: float64"
      ]
     },
     "execution_count": 21,
     "metadata": {},
     "output_type": "execute_result"
    }
   ],
   "source": [
    "s.fillna(method = \"ffill\", limit = 1)"
   ]
  },
  {
   "cell_type": "code",
   "execution_count": null,
   "id": "cd8af13e",
   "metadata": {},
   "outputs": [],
   "source": []
  }
 ],
 "metadata": {
  "kernelspec": {
   "display_name": "Python 3 (ipykernel)",
   "language": "python",
   "name": "python3"
  },
  "language_info": {
   "codemirror_mode": {
    "name": "ipython",
    "version": 3
   },
   "file_extension": ".py",
   "mimetype": "text/x-python",
   "name": "python",
   "nbconvert_exporter": "python",
   "pygments_lexer": "ipython3",
   "version": "3.10.9"
  }
 },
 "nbformat": 4,
 "nbformat_minor": 5
}
